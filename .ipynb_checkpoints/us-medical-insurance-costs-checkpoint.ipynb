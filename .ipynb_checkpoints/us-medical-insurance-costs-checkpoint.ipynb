{
 "cells": [
  {
   "cell_type": "markdown",
   "metadata": {},
   "source": [
    "# U.S. Medical Insurance Costs"
   ]
  },
  {
   "cell_type": "markdown",
   "metadata": {},
   "source": [
    "### Introduction"
   ]
  },
  {
   "cell_type": "markdown",
   "metadata": {},
   "source": [
    "<b>Codeacademy Data Scientist Career Path: Portfolio Project 1</b>\n",
    "\n",
    "This notebook is designed to outline a basic exploratory analysis of data. The data used here is a playground dataset of U.S. Medical Insurance Costs provided by Codeacademy. The data is used in a pedagogical way to explore the possibile applications of using data in the real world.\n",
    "\n",
    "We will make use of fundamental Python programming practice and walkthrough the process step by step."
   ]
  },
  {
   "cell_type": "markdown",
   "metadata": {},
   "source": [
    "<div class=\"alert alert-success\">\n",
    "    \n",
    "<h3>Project plan</h3>\n",
    "\n",
    "<p>Before we start we need to outline what business goals we want to achieve from this data. Below is a list of potential goals.\n",
    "\n",
    "<ul>\n",
    "    <li><b>Global analysis</b><br> \n",
    "        Global averages and trends can be useful for exploring the overall mean insurance costs predicted from the underlying calculation.\n",
    "    </li>\n",
    "    <br>\n",
    "    <li><b>Largest contributions</b><br>\n",
    "        Knowing the largest contributions can help companies explore how the insurance costs are affected by different factors.\n",
    "    </li>\n",
    "    <br>\n",
    "    <li><b>Recommendations for the user</b><br> \n",
    "        Users can get personalised advice on how to decrease their insurance premium in the most effective ways.\n",
    "    </li>\n",
    "    <br>\n",
    "    <li><b>Regional analysis</b><br>\n",
    "        Knowing the general trends based on the region can give the company insights into what offers to promote in different areas or how to recalculate the insurance prices based on how people differ in these regions.\n",
    "    </li>\n",
    "</ul>\n",
    "\n",
    "We will work down this list and explore the possible applications of the results.\n",
    "</p>\n",
    "\n",
    "</div>"
   ]
  },
  {
   "cell_type": "code",
   "execution_count": null,
   "metadata": {},
   "outputs": [],
   "source": []
  },
  {
   "cell_type": "markdown",
   "metadata": {},
   "source": [
    "### The Dataset"
   ]
  },
  {
   "cell_type": "code",
   "execution_count": null,
   "metadata": {},
   "outputs": [],
   "source": []
  }
 ],
 "metadata": {
  "kernelspec": {
   "display_name": "Python 3",
   "language": "python",
   "name": "python3"
  },
  "language_info": {
   "codemirror_mode": {
    "name": "ipython",
    "version": 3
   },
   "file_extension": ".py",
   "mimetype": "text/x-python",
   "name": "python",
   "nbconvert_exporter": "python",
   "pygments_lexer": "ipython3",
   "version": "3.7.4"
  }
 },
 "nbformat": 4,
 "nbformat_minor": 4
}
